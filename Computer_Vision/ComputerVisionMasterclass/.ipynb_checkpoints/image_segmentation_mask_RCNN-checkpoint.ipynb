{
 "cells": [
  {
   "cell_type": "code",
   "execution_count": 1,
   "metadata": {},
   "outputs": [
    {
     "name": "stderr",
     "output_type": "stream",
     "text": [
      "Cloning into 'Mask_RCNN'...\n"
     ]
    }
   ],
   "source": [
    "!git clone https://github.com/matterport/Mask_RCNN"
   ]
  },
  {
   "cell_type": "code",
   "execution_count": 2,
   "metadata": {},
   "outputs": [
    {
     "name": "stdout",
     "output_type": "stream",
     "text": [
      "C:\\CODE_n_PROJECTS\\Computer_Vision\\ComputerVisionMasterclass\\Mask_RCNN\n"
     ]
    }
   ],
   "source": [
    "%cd Mask_RCNN"
   ]
  },
  {
   "cell_type": "code",
   "execution_count": 3,
   "metadata": {},
   "outputs": [
    {
     "data": {
      "text/plain": [
       "'C:\\\\CODE_n_PROJECTS\\\\Computer_Vision\\\\ComputerVisionMasterclass\\\\Mask_RCNN'"
      ]
     },
     "execution_count": 3,
     "metadata": {},
     "output_type": "execute_result"
    }
   ],
   "source": [
    "pwd"
   ]
  },
  {
   "cell_type": "code",
   "execution_count": 6,
   "metadata": {},
   "outputs": [
    {
     "name": "stdout",
     "output_type": "stream",
     "text": [
      "running install\n",
      "running bdist_egg\n",
      "running egg_info\n",
      "writing mask_rcnn.egg-info\\PKG-INFO\n",
      "writing dependency_links to mask_rcnn.egg-info\\dependency_links.txt\n",
      "writing top-level names to mask_rcnn.egg-info\\top_level.txt\n",
      "reading manifest file 'mask_rcnn.egg-info\\SOURCES.txt'\n",
      "reading manifest template 'MANIFEST.in'\n",
      "writing manifest file 'mask_rcnn.egg-info\\SOURCES.txt'\n",
      "installing library code to build\\bdist.win-amd64\\egg\n",
      "running install_lib\n",
      "running build_py\n",
      "creating build\\bdist.win-amd64\\egg\n",
      "creating build\\bdist.win-amd64\\egg\\mrcnn\n",
      "copying build\\lib\\mrcnn\\config.py -> build\\bdist.win-amd64\\egg\\mrcnn\n",
      "copying build\\lib\\mrcnn\\model.py -> build\\bdist.win-amd64\\egg\\mrcnn\n",
      "copying build\\lib\\mrcnn\\parallel_model.py -> build\\bdist.win-amd64\\egg\\mrcnn\n",
      "copying build\\lib\\mrcnn\\utils.py -> build\\bdist.win-amd64\\egg\\mrcnn\n",
      "copying build\\lib\\mrcnn\\visualize.py -> build\\bdist.win-amd64\\egg\\mrcnn\n",
      "copying build\\lib\\mrcnn\\__init__.py -> build\\bdist.win-amd64\\egg\\mrcnn\n",
      "byte-compiling build\\bdist.win-amd64\\egg\\mrcnn\\config.py to config.cpython-37.pyc\n",
      "byte-compiling build\\bdist.win-amd64\\egg\\mrcnn\\model.py to model.cpython-37.pyc\n",
      "byte-compiling build\\bdist.win-amd64\\egg\\mrcnn\\parallel_model.py to parallel_model.cpython-37.pyc\n",
      "byte-compiling build\\bdist.win-amd64\\egg\\mrcnn\\utils.py to utils.cpython-37.pyc\n",
      "byte-compiling build\\bdist.win-amd64\\egg\\mrcnn\\visualize.py to visualize.cpython-37.pyc\n",
      "byte-compiling build\\bdist.win-amd64\\egg\\mrcnn\\__init__.py to __init__.cpython-37.pyc\n",
      "creating build\\bdist.win-amd64\\egg\\EGG-INFO\n",
      "copying mask_rcnn.egg-info\\PKG-INFO -> build\\bdist.win-amd64\\egg\\EGG-INFO\n",
      "copying mask_rcnn.egg-info\\SOURCES.txt -> build\\bdist.win-amd64\\egg\\EGG-INFO\n",
      "copying mask_rcnn.egg-info\\dependency_links.txt -> build\\bdist.win-amd64\\egg\\EGG-INFO\n",
      "copying mask_rcnn.egg-info\\top_level.txt -> build\\bdist.win-amd64\\egg\\EGG-INFO\n",
      "creating 'dist\\mask_rcnn-2.1-py3.7.egg' and adding 'build\\bdist.win-amd64\\egg' to it\n",
      "removing 'build\\bdist.win-amd64\\egg' (and everything under it)\n",
      "Processing mask_rcnn-2.1-py3.7.egg\n",
      "Copying mask_rcnn-2.1-py3.7.egg to c:\\python37\\lib\\site-packages\n",
      "Adding mask-rcnn 2.1 to easy-install.pth file\n",
      "\n",
      "Installed c:\\python37\\lib\\site-packages\\mask_rcnn-2.1-py3.7.egg\n",
      "Processing dependencies for mask-rcnn==2.1\n",
      "Finished processing dependencies for mask-rcnn==2.1\n"
     ]
    },
    {
     "name": "stderr",
     "output_type": "stream",
     "text": [
      "WARNING:root:Fail load requirements file, so using default ones.\n",
      "zip_safe flag not set; analyzing archive contents...\n"
     ]
    }
   ],
   "source": [
    "!py -3.7 setup.py install"
   ]
  },
  {
   "cell_type": "code",
   "execution_count": 7,
   "metadata": {},
   "outputs": [
    {
     "name": "stdout",
     "output_type": "stream",
     "text": [
      "C:\\CODE_n_PROJECTS\\Computer_Vision\\ComputerVisionMasterclass\n"
     ]
    }
   ],
   "source": [
    "%cd .."
   ]
  },
  {
   "cell_type": "code",
   "execution_count": 8,
   "metadata": {},
   "outputs": [
    {
     "data": {
      "text/plain": [
       "'C:\\\\CODE_n_PROJECTS\\\\Computer_Vision\\\\ComputerVisionMasterclass'"
      ]
     },
     "execution_count": 8,
     "metadata": {},
     "output_type": "execute_result"
    }
   ],
   "source": [
    "pwd"
   ]
  },
  {
   "cell_type": "code",
   "execution_count": 10,
   "metadata": {},
   "outputs": [],
   "source": [
    "import os\n",
    "import sys\n",
    "import cv2\n",
    "import numpy as np\n",
    "import skimage.io\n",
    "import matplotlib.pyplot as plt"
   ]
  },
  {
   "cell_type": "code",
   "execution_count": 11,
   "metadata": {},
   "outputs": [
    {
     "data": {
      "text/plain": [
       "'2.6.0'"
      ]
     },
     "execution_count": 11,
     "metadata": {},
     "output_type": "execute_result"
    }
   ],
   "source": [
    "import tensorflow as tf\n",
    "tf.__version__"
   ]
  },
  {
   "cell_type": "code",
   "execution_count": 12,
   "metadata": {},
   "outputs": [
    {
     "data": {
      "text/plain": [
       "'C:\\\\CODE_n_PROJECTS\\\\Computer_Vision\\\\ComputerVisionMasterclass\\\\Mask_RCNN'"
      ]
     },
     "execution_count": 12,
     "metadata": {},
     "output_type": "execute_result"
    }
   ],
   "source": [
    "ROOT_DIR = os.path.abspath('./Mask_RCNN')\n",
    "ROOT_DIR"
   ]
  },
  {
   "cell_type": "code",
   "execution_count": 13,
   "metadata": {},
   "outputs": [
    {
     "data": {
      "text/plain": [
       "['C:\\\\CODE_n_PROJECTS\\\\Computer_Vision\\\\ComputerVisionMasterclass',\n",
       " 'c:\\\\python37\\\\python37.zip',\n",
       " 'c:\\\\python37\\\\DLLs',\n",
       " 'c:\\\\python37\\\\lib',\n",
       " 'c:\\\\python37',\n",
       " '',\n",
       " 'C:\\\\Users\\\\KIIT\\\\AppData\\\\Roaming\\\\Python\\\\Python37\\\\site-packages',\n",
       " 'c:\\\\python37\\\\lib\\\\site-packages',\n",
       " 'c:\\\\python37\\\\lib\\\\site-packages\\\\win32',\n",
       " 'c:\\\\python37\\\\lib\\\\site-packages\\\\win32\\\\lib',\n",
       " 'c:\\\\python37\\\\lib\\\\site-packages\\\\Pythonwin',\n",
       " 'c:\\\\python37\\\\lib\\\\site-packages\\\\IPython\\\\extensions',\n",
       " 'C:\\\\Users\\\\KIIT\\\\.ipython']"
      ]
     },
     "execution_count": 13,
     "metadata": {},
     "output_type": "execute_result"
    }
   ],
   "source": [
    "sys.path"
   ]
  },
  {
   "cell_type": "code",
   "execution_count": 14,
   "metadata": {},
   "outputs": [
    {
     "data": {
      "text/plain": [
       "['C:\\\\CODE_n_PROJECTS\\\\Computer_Vision\\\\ComputerVisionMasterclass',\n",
       " 'c:\\\\python37\\\\python37.zip',\n",
       " 'c:\\\\python37\\\\DLLs',\n",
       " 'c:\\\\python37\\\\lib',\n",
       " 'c:\\\\python37',\n",
       " '',\n",
       " 'C:\\\\Users\\\\KIIT\\\\AppData\\\\Roaming\\\\Python\\\\Python37\\\\site-packages',\n",
       " 'c:\\\\python37\\\\lib\\\\site-packages',\n",
       " 'c:\\\\python37\\\\lib\\\\site-packages\\\\win32',\n",
       " 'c:\\\\python37\\\\lib\\\\site-packages\\\\win32\\\\lib',\n",
       " 'c:\\\\python37\\\\lib\\\\site-packages\\\\Pythonwin',\n",
       " 'c:\\\\python37\\\\lib\\\\site-packages\\\\IPython\\\\extensions',\n",
       " 'C:\\\\Users\\\\KIIT\\\\.ipython',\n",
       " 'C:\\\\CODE_n_PROJECTS\\\\Computer_Vision\\\\ComputerVisionMasterclass\\\\Mask_RCNN']"
      ]
     },
     "execution_count": 14,
     "metadata": {},
     "output_type": "execute_result"
    }
   ],
   "source": [
    "sys.path.append(ROOT_DIR)\n",
    "\n",
    "sys.path"
   ]
  },
  {
   "cell_type": "code",
   "execution_count": 15,
   "metadata": {},
   "outputs": [
    {
     "ename": "AttributeError",
     "evalue": "module 'keras.engine' has no attribute 'Layer'",
     "output_type": "error",
     "traceback": [
      "\u001b[1;31m---------------------------------------------------------------------------\u001b[0m",
      "\u001b[1;31mAttributeError\u001b[0m                            Traceback (most recent call last)",
      "\u001b[1;32m<ipython-input-15-6f12849545d7>\u001b[0m in \u001b[0;36m<module>\u001b[1;34m\u001b[0m\n\u001b[0;32m      1\u001b[0m \u001b[1;32mfrom\u001b[0m \u001b[0mmrcnn\u001b[0m \u001b[1;32mimport\u001b[0m \u001b[0mutils\u001b[0m\u001b[1;33m\u001b[0m\u001b[1;33m\u001b[0m\u001b[0m\n\u001b[0;32m      2\u001b[0m \u001b[1;32mfrom\u001b[0m \u001b[0mmrcnn\u001b[0m \u001b[1;32mimport\u001b[0m \u001b[0mvisualize\u001b[0m\u001b[1;33m\u001b[0m\u001b[1;33m\u001b[0m\u001b[0m\n\u001b[1;32m----> 3\u001b[1;33m \u001b[1;32mimport\u001b[0m \u001b[0mmrcnn\u001b[0m\u001b[1;33m.\u001b[0m\u001b[0mmodel\u001b[0m \u001b[1;32mas\u001b[0m \u001b[0mmodellib\u001b[0m\u001b[1;33m\u001b[0m\u001b[1;33m\u001b[0m\u001b[0m\n\u001b[0m",
      "\u001b[1;32mC:\\CODE_n_PROJECTS\\Computer_Vision\\ComputerVisionMasterclass\\Mask_RCNN\\mrcnn\\model.py\u001b[0m in \u001b[0;36m<module>\u001b[1;34m\u001b[0m\n\u001b[0;32m    253\u001b[0m \u001b[1;33m\u001b[0m\u001b[0m\n\u001b[0;32m    254\u001b[0m \u001b[1;33m\u001b[0m\u001b[0m\n\u001b[1;32m--> 255\u001b[1;33m \u001b[1;32mclass\u001b[0m \u001b[0mProposalLayer\u001b[0m\u001b[1;33m(\u001b[0m\u001b[0mKE\u001b[0m\u001b[1;33m.\u001b[0m\u001b[0mLayer\u001b[0m\u001b[1;33m)\u001b[0m\u001b[1;33m:\u001b[0m\u001b[1;33m\u001b[0m\u001b[1;33m\u001b[0m\u001b[0m\n\u001b[0m\u001b[0;32m    256\u001b[0m     \"\"\"Receives anchor scores and selects a subset to pass as proposals\n\u001b[0;32m    257\u001b[0m     \u001b[0mto\u001b[0m \u001b[0mthe\u001b[0m \u001b[0msecond\u001b[0m \u001b[0mstage\u001b[0m\u001b[1;33m.\u001b[0m \u001b[0mFiltering\u001b[0m \u001b[1;32mis\u001b[0m \u001b[0mdone\u001b[0m \u001b[0mbased\u001b[0m \u001b[0mon\u001b[0m \u001b[0manchor\u001b[0m \u001b[0mscores\u001b[0m \u001b[1;32mand\u001b[0m\u001b[1;33m\u001b[0m\u001b[1;33m\u001b[0m\u001b[0m\n",
      "\u001b[1;31mAttributeError\u001b[0m: module 'keras.engine' has no attribute 'Layer'"
     ]
    }
   ],
   "source": [
    "from mrcnn import utils\n",
    "from mrcnn import visualize\n",
    "import mrcnn.model as modellib"
   ]
  },
  {
   "cell_type": "code",
   "execution_count": null,
   "metadata": {},
   "outputs": [],
   "source": []
  }
 ],
 "metadata": {
  "kernelspec": {
   "display_name": "Python 3",
   "language": "python",
   "name": "python3"
  },
  "language_info": {
   "codemirror_mode": {
    "name": "ipython",
    "version": 3
   },
   "file_extension": ".py",
   "mimetype": "text/x-python",
   "name": "python",
   "nbconvert_exporter": "python",
   "pygments_lexer": "ipython3",
   "version": "3.7.4"
  }
 },
 "nbformat": 4,
 "nbformat_minor": 4
}
