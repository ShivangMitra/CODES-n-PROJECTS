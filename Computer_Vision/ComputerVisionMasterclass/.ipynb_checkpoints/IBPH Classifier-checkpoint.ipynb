{
 "cells": [
  {
   "cell_type": "code",
   "execution_count": 1,
   "metadata": {},
   "outputs": [],
   "source": [
    "from PIL import Image\n",
    "import cv2\n",
    "import numpy as np\n",
    "import zipfile"
   ]
  },
  {
   "cell_type": "code",
   "execution_count": 2,
   "metadata": {},
   "outputs": [],
   "source": [
    "# path = 'required/Datasets/yalefaces.zip'\n",
    "# zip_object = zipfile.ZipFile(file=path, mode='r')\n",
    "# zip_object.extractall('./')\n",
    "# zip_object.close()"
   ]
  },
  {
   "cell_type": "code",
   "execution_count": 3,
   "metadata": {},
   "outputs": [],
   "source": [
    "import os\n",
    "\n",
    "def get_image_data():\n",
    "    paths = [ os.path.join('yalefaces/train', f) for f in os.listdir('yalefaces/train') ]\n",
    "    faces = []\n",
    "    ids = []\n",
    "    for path in paths:\n",
    "        image = Image.open(path).convert('L')\n",
    "        image_np = np.array(image, 'uint8')\n",
    "        id = int(os.path.split(path)[1].split('.')[0].replace('subject', ''))\n",
    "        ids.append(id)\n",
    "        faces.append(image_np)\n",
    "        \n",
    "    return np.array(ids), faces\n",
    "\n",
    "ids, faces = get_image_data()"
   ]
  },
  {
   "cell_type": "code",
   "execution_count": 4,
   "metadata": {},
   "outputs": [],
   "source": [
    "# lbph_classifier = cv2.face.LBPHFaceRecognizer_create()\n",
    "# lbph_classifier.train(faces, ids)\n",
    "# lbph_classifier.write('lbph_classifier.yml')"
   ]
  },
  {
   "cell_type": "code",
   "execution_count": 5,
   "metadata": {},
   "outputs": [],
   "source": [
    "lbph_face_classifier = cv2.face.LBPHFaceRecognizer_create()\n",
    "lbph_face_classifier.read('lbph_classifier.yml')"
   ]
  },
  {
   "cell_type": "code",
   "execution_count": 6,
   "metadata": {},
   "outputs": [
    {
     "data": {
      "text/plain": [
       "(10, 6.384336446373091)"
      ]
     },
     "execution_count": 6,
     "metadata": {},
     "output_type": "execute_result"
    }
   ],
   "source": [
    "test_image = 'yalefaces/test/subject10.sad.gif'\n",
    "\n",
    "image = Image.open(test_image).convert('L')\n",
    "image_np = np.array(image, 'uint8')\n",
    "\n",
    "prediction = lbph_face_classifier.predict(image_np)\n",
    "prediction"
   ]
  },
  {
   "cell_type": "code",
   "execution_count": 7,
   "metadata": {},
   "outputs": [
    {
     "data": {
      "text/plain": [
       "10"
      ]
     },
     "execution_count": 7,
     "metadata": {},
     "output_type": "execute_result"
    }
   ],
   "source": [
    "expected_output = int(os.path.split(test_image)[1].split('.')[0].replace('subject', ''))\n",
    "expected_output"
   ]
  },
  {
   "cell_type": "code",
   "execution_count": 8,
   "metadata": {},
   "outputs": [],
   "source": [
    "cv2.putText(image_np, 'Pred: ' + str(prediction[0]), (10, 30), cv2.FONT_HERSHEY_COMPLEX_SMALL, 1, (0, 255, 0))\n",
    "cv2.putText(image_np, 'Exp: ' + str(prediction[0]), (10, 50), cv2.FONT_HERSHEY_COMPLEX_SMALL, 1, (0, 255, 0))\n",
    "cv2.imshow(\"Image\", image_np)\n",
    "cv2.waitKey(0)\n",
    "cv2.destroyAllWindows()"
   ]
  },
  {
   "cell_type": "code",
   "execution_count": null,
   "metadata": {},
   "outputs": [],
   "source": []
  }
 ],
 "metadata": {
  "kernelspec": {
   "display_name": "Python 3",
   "language": "python",
   "name": "python3"
  },
  "language_info": {
   "codemirror_mode": {
    "name": "ipython",
    "version": 3
   },
   "file_extension": ".py",
   "mimetype": "text/x-python",
   "name": "python",
   "nbconvert_exporter": "python",
   "pygments_lexer": "ipython3",
   "version": "3.7.4"
  }
 },
 "nbformat": 4,
 "nbformat_minor": 4
}
