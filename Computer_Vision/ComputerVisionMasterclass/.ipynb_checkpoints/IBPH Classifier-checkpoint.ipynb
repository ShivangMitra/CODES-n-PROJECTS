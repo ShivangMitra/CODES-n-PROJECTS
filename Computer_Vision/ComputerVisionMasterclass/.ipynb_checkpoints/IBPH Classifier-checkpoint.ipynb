{
 "cells": [
  {
   "cell_type": "code",
   "execution_count": 1,
   "metadata": {},
   "outputs": [],
   "source": [
    "from PIL import Image\n",
    "import cv2\n",
    "import numpy as np\n",
    "import zipfile"
   ]
  },
  {
   "cell_type": "code",
   "execution_count": 2,
   "metadata": {},
   "outputs": [],
   "source": [
    "# path = 'required/Datasets/yalefaces.zip'\n",
    "# zip_object = zipfile.ZipFile(file=path, mode='r')\n",
    "# zip_object.extractall('./')\n",
    "# zip_object.close()"
   ]
  },
  {
   "cell_type": "code",
   "execution_count": 3,
   "metadata": {},
   "outputs": [],
   "source": [
    "import os\n",
    "\n",
    "def get_image_data():\n",
    "    paths = [ os.path.join('yalefaces/train', f) for f in os.listdir('yalefaces/train') ]\n",
    "    faces = []\n",
    "    ids = []\n",
    "    for path in paths:\n",
    "        image = Image.open(path).convert('L')\n",
    "        image_np = np.array(image, 'uint8')\n",
    "        id = int(os.path.split(path)[1].split('.')[0].replace('subject', ''))\n",
    "        ids.append(id)\n",
    "        faces.append(image_np)\n",
    "        \n",
    "    return np.array(ids), faces\n",
    "\n",
    "ids, faces = get_image_data()"
   ]
  },
  {
   "cell_type": "code",
   "execution_count": 4,
   "metadata": {},
   "outputs": [],
   "source": [
    "# lbph_classifier = cv2.face.LBPHFaceRecognizer_create()\n",
    "# lbph_classifier.train(faces, ids)\n",
    "# lbph_classifier.write('lbph_classifier.yml')"
   ]
  },
  {
   "cell_type": "code",
   "execution_count": 5,
   "metadata": {},
   "outputs": [],
   "source": [
    "lbph_face_classifier = cv2.face.LBPHFaceRecognizer_create()\n",
    "lbph_face_classifier.read('lbph_classifier.yml')"
   ]
  },
  {
   "cell_type": "code",
   "execution_count": 6,
   "metadata": {},
   "outputs": [
    {
     "data": {
      "text/plain": [
       "(10, 6.384336446373091)"
      ]
     },
     "execution_count": 6,
     "metadata": {},
     "output_type": "execute_result"
    }
   ],
   "source": [
    "test_image = 'yalefaces/test/subject10.sad.gif'\n",
    "\n",
    "image = Image.open(test_image).convert('L')\n",
    "image_np = np.array(image, 'uint8')\n",
    "\n",
    "prediction = lbph_face_classifier.predict(image_np)\n",
    "prediction"
   ]
  },
  {
   "cell_type": "code",
   "execution_count": 7,
   "metadata": {},
   "outputs": [
    {
     "data": {
      "text/plain": [
       "10"
      ]
     },
     "execution_count": 7,
     "metadata": {},
     "output_type": "execute_result"
    }
   ],
   "source": [
    "expected_output = int(os.path.split(test_image)[1].split('.')[0].replace('subject', ''))\n",
    "expected_output"
   ]
  },
  {
   "cell_type": "code",
   "execution_count": 8,
   "metadata": {},
   "outputs": [],
   "source": [
    "cv2.putText(image_np, 'Pred: ' + str(prediction[0]), (10, 30), cv2.FONT_HERSHEY_COMPLEX_SMALL, 1, (0, 255, 0))\n",
    "cv2.putText(image_np, 'Exp: ' + str(prediction[0]), (10, 50), cv2.FONT_HERSHEY_COMPLEX_SMALL, 1, (0, 255, 0))\n",
    "cv2.imshow(\"Image\", image_np)\n",
    "cv2.waitKey(0)\n",
    "cv2.destroyAllWindows()"
   ]
  },
  {
   "cell_type": "code",
   "execution_count": 9,
   "metadata": {},
   "outputs": [],
   "source": [
    "paths = [os.path.join('yalefaces/test', f) for f in os.listdir('yalefaces/test')]\n",
    "predictions = []\n",
    "expected_outputs = []\n",
    "for path in paths:\n",
    "  image = Image.open(path).convert('L')\n",
    "  image_np = np.array(image, 'uint8')\n",
    "  prediction, _ = lbph_face_classifier.predict(image_np)\n",
    "  expected_output = int(os.path.split(path)[1].split('.')[0].replace('subject', '')) \n",
    "\n",
    "  predictions.append(prediction)\n",
    "  expected_outputs.append(expected_output)"
   ]
  },
  {
   "cell_type": "code",
   "execution_count": 10,
   "metadata": {},
   "outputs": [],
   "source": [
    "predictions = np.array(predictions)\n",
    "expected_outputs = np.array(expected_outputs)"
   ]
  },
  {
   "cell_type": "code",
   "execution_count": 11,
   "metadata": {},
   "outputs": [
    {
     "data": {
      "text/plain": [
       "array([ 1,  1,  4,  5,  3,  9,  9,  4,  5,  5,  6, 14,  7,  9,  8,  4,  7,\n",
       "        9,  4, 10, 11, 11, 12, 12, 13, 13, 14, 14,  7, 15])"
      ]
     },
     "execution_count": 11,
     "metadata": {},
     "output_type": "execute_result"
    }
   ],
   "source": [
    "predictions"
   ]
  },
  {
   "cell_type": "code",
   "execution_count": 12,
   "metadata": {},
   "outputs": [
    {
     "data": {
      "text/plain": [
       "array([ 1,  1,  2,  2,  3,  3,  4,  4,  5,  5,  6,  6,  7,  7,  8,  8,  9,\n",
       "        9, 10, 10, 11, 11, 12, 12, 13, 13, 14, 14, 15, 15])"
      ]
     },
     "execution_count": 12,
     "metadata": {},
     "output_type": "execute_result"
    }
   ],
   "source": [
    "expected_outputs"
   ]
  },
  {
   "cell_type": "code",
   "execution_count": 13,
   "metadata": {},
   "outputs": [
    {
     "data": {
      "text/plain": [
       "0.6666666666666666"
      ]
     },
     "execution_count": 13,
     "metadata": {},
     "output_type": "execute_result"
    }
   ],
   "source": [
    "from sklearn.metrics import accuracy_score\n",
    "accuracy_score(expected_outputs, predictions)"
   ]
  },
  {
   "cell_type": "code",
   "execution_count": 14,
   "metadata": {},
   "outputs": [
    {
     "data": {
      "text/plain": [
       "array([[2, 0, 0, 0, 0, 0, 0, 0, 0, 0, 0, 0, 0, 0, 0],\n",
       "       [0, 0, 0, 1, 1, 0, 0, 0, 0, 0, 0, 0, 0, 0, 0],\n",
       "       [0, 0, 1, 0, 0, 0, 0, 0, 1, 0, 0, 0, 0, 0, 0],\n",
       "       [0, 0, 0, 1, 0, 0, 0, 0, 1, 0, 0, 0, 0, 0, 0],\n",
       "       [0, 0, 0, 0, 2, 0, 0, 0, 0, 0, 0, 0, 0, 0, 0],\n",
       "       [0, 0, 0, 0, 0, 1, 0, 0, 0, 0, 0, 0, 0, 1, 0],\n",
       "       [0, 0, 0, 0, 0, 0, 1, 0, 1, 0, 0, 0, 0, 0, 0],\n",
       "       [0, 0, 0, 1, 0, 0, 0, 1, 0, 0, 0, 0, 0, 0, 0],\n",
       "       [0, 0, 0, 0, 0, 0, 1, 0, 1, 0, 0, 0, 0, 0, 0],\n",
       "       [0, 0, 0, 1, 0, 0, 0, 0, 0, 1, 0, 0, 0, 0, 0],\n",
       "       [0, 0, 0, 0, 0, 0, 0, 0, 0, 0, 2, 0, 0, 0, 0],\n",
       "       [0, 0, 0, 0, 0, 0, 0, 0, 0, 0, 0, 2, 0, 0, 0],\n",
       "       [0, 0, 0, 0, 0, 0, 0, 0, 0, 0, 0, 0, 2, 0, 0],\n",
       "       [0, 0, 0, 0, 0, 0, 0, 0, 0, 0, 0, 0, 0, 2, 0],\n",
       "       [0, 0, 0, 0, 0, 0, 1, 0, 0, 0, 0, 0, 0, 0, 1]], dtype=int64)"
      ]
     },
     "execution_count": 14,
     "metadata": {},
     "output_type": "execute_result"
    }
   ],
   "source": [
    "from sklearn.metrics import confusion_matrix\n",
    "cm = confusion_matrix(expected_outputs, predictions)\n",
    "cm"
   ]
  },
  {
   "cell_type": "code",
   "execution_count": 15,
   "metadata": {},
   "outputs": [
    {
     "data": {
      "image/png": "[encoded data removed]",
      "text/plain": [
       "<Figure size 432x288 with 2 Axes>"
      ]
     },
     "metadata": {
      "needs_background": "light"
     },
     "output_type": "display_data"
    }
   ],
   "source": [
    "import seaborn\n",
    "seaborn.heatmap(cm, annot=True);"
   ]
  },
  {
   "cell_type": "code",
   "execution_count": 16,
   "metadata": {},
   "outputs": [],
   "source": [
    "import dlib\n",
    "import cv2"
   ]
  },
  {
   "cell_type": "code",
   "execution_count": 17,
   "metadata": {},
   "outputs": [],
   "source": [
    "face_detector = dlib.get_frontal_face_detector()\n",
    "points_detector = dlib.shape_predictor('required/Weights/shape_predictor_68_face_landmarks.dat')"
   ]
  },
  {
   "cell_type": "code",
   "execution_count": 19,
   "metadata": {},
   "outputs": [],
   "source": [
    "image = cv2.imread('required/Images/people2.jpg')\n",
    "face_detection = face_detector(image, 1)\n",
    "for face in face_detection:\n",
    "  points = points_detector(image, face)\n",
    "  for point in points.parts():\n",
    "    cv2.circle(image, (point.x, point.y), 2, (0,255,0), 1)\n",
    "\n",
    "  #print(points.parts())\n",
    "  #print(len(points.parts()))\n",
    "\n",
    "  l, t, r, b = face.left(), face.top(), face.right(), face.bottom()\n",
    "  cv2.rectangle(image, (l, t), (r, b), (0,255,255), 2)\n",
    "# cv2.imshow(image)\n",
    "# cv2.waitKey(0)\n",
    "# cv2.destroyAllWindows()"
   ]
  },
  {
   "cell_type": "code",
   "execution_count": 20,
   "metadata": {},
   "outputs": [],
   "source": [
    "import os"
   ]
  },
  {
   "cell_type": "code",
   "execution_count": 21,
   "metadata": {},
   "outputs": [],
   "source": [
    "face_detector = dlib.get_frontal_face_detector()\n",
    "points_detector = dlib.shape_predictor('required/Weights/shape_predictor_68_face_landmarks.dat')\n",
    "face_descriptor_extractor = dlib.face_recognition_model_v1('required/Weights/dlib_face_recognition_resnet_model_v1.dat')"
   ]
  },
  {
   "cell_type": "code",
   "execution_count": 23,
   "metadata": {},
   "outputs": [],
   "source": [
    "index = {}\n",
    "idx = 0\n",
    "face_descriptors = None\n",
    "\n",
    "paths = [os.path.join('yalefaces/train', f) for f in os.listdir('yalefaces/train')]\n",
    "for path in paths:\n",
    "  image = Image.open(path).convert('RGB')\n",
    "  image_np = np.array(image, 'uint8')\n",
    "  face_detection = face_detector(image_np, 1)\n",
    "  for face in face_detection:\n",
    "    l, t, r, b = face.left(), face.top(), face.right(), face.bottom()\n",
    "    cv2.rectangle(image_np, (l, t), (r, b), (0, 0, 255), 2)\n",
    "\n",
    "    points = points_detector(image_np, face)\n",
    "    for point in points.parts():\n",
    "      cv2.circle(image_np, (point.x, point.y), 2, (0, 255, 0), 1)\n",
    "\n",
    "    face_descriptor = face_descriptor_extractor.compute_face_descriptor(image_np, points)\n",
    "    face_descriptor = [f for f in face_descriptor]\n",
    "    face_descriptor = np.asarray(face_descriptor, dtype=np.float64)\n",
    "    face_descriptor = face_descriptor[np.newaxis, :]\n",
    "\n",
    "    if face_descriptors is None:\n",
    "      face_descriptors = face_descriptor\n",
    "    else:\n",
    "      face_descriptors = np.concatenate((face_descriptors, face_descriptor), axis = 0)\n",
    "\n",
    "    index[idx] = path\n",
    "    idx += 1\n",
    "  #cv2_imshow(image_np)"
   ]
  },
  {
   "cell_type": "code",
   "execution_count": 24,
   "metadata": {},
   "outputs": [
    {
     "data": {
      "text/plain": [
       "(132, 128)"
      ]
     },
     "execution_count": 24,
     "metadata": {},
     "output_type": "execute_result"
    }
   ],
   "source": [
    "face_descriptors.shape"
   ]
  },
  {
   "cell_type": "code",
   "execution_count": 25,
   "metadata": {},
   "outputs": [
    {
     "data": {
      "text/plain": [
       "{0: 'yalefaces/train\\\\subject01.glasses.gif',\n",
       " 1: 'yalefaces/train\\\\subject01.leftlight.gif',\n",
       " 2: 'yalefaces/train\\\\subject01.noglasses.gif',\n",
       " 3: 'yalefaces/train\\\\subject01.normal.gif',\n",
       " 4: 'yalefaces/train\\\\subject01.sad.gif',\n",
       " 5: 'yalefaces/train\\\\subject01.sleepy.gif',\n",
       " 6: 'yalefaces/train\\\\subject01.surprised.gif',\n",
       " 7: 'yalefaces/train\\\\subject01.wink.gif',\n",
       " 8: 'yalefaces/train\\\\subject02.glasses.gif',\n",
       " 9: 'yalefaces/train\\\\subject02.happy.gif',\n",
       " 10: 'yalefaces/train\\\\subject02.noglasses.gif',\n",
       " 11: 'yalefaces/train\\\\subject02.normal.gif',\n",
       " 12: 'yalefaces/train\\\\subject02.rightlight.gif',\n",
       " 13: 'yalefaces/train\\\\subject02.sad.gif',\n",
       " 14: 'yalefaces/train\\\\subject02.sleepy.gif',\n",
       " 15: 'yalefaces/train\\\\subject02.surprised.gif',\n",
       " 16: 'yalefaces/train\\\\subject02.wink.gif',\n",
       " 17: 'yalefaces/train\\\\subject03.centerlight.gif',\n",
       " 18: 'yalefaces/train\\\\subject03.happy.gif',\n",
       " 19: 'yalefaces/train\\\\subject03.noglasses.gif',\n",
       " 20: 'yalefaces/train\\\\subject03.normal.gif',\n",
       " 21: 'yalefaces/train\\\\subject03.rightlight.gif',\n",
       " 22: 'yalefaces/train\\\\subject03.sad.gif',\n",
       " 23: 'yalefaces/train\\\\subject03.sleepy.gif',\n",
       " 24: 'yalefaces/train\\\\subject03.surprised.gif',\n",
       " 25: 'yalefaces/train\\\\subject03.wink.gif',\n",
       " 26: 'yalefaces/train\\\\subject04.centerlight.gif',\n",
       " 27: 'yalefaces/train\\\\subject04.glasses.gif',\n",
       " 28: 'yalefaces/train\\\\subject04.happy.gif',\n",
       " 29: 'yalefaces/train\\\\subject04.noglasses.gif',\n",
       " 30: 'yalefaces/train\\\\subject04.normal.gif',\n",
       " 31: 'yalefaces/train\\\\subject04.rightlight.gif',\n",
       " 32: 'yalefaces/train\\\\subject04.sad.gif',\n",
       " 33: 'yalefaces/train\\\\subject04.sleepy.gif',\n",
       " 34: 'yalefaces/train\\\\subject04.wink.gif',\n",
       " 35: 'yalefaces/train\\\\subject05.centerlight.gif',\n",
       " 36: 'yalefaces/train\\\\subject05.glasses.gif',\n",
       " 37: 'yalefaces/train\\\\subject05.happy.gif',\n",
       " 38: 'yalefaces/train\\\\subject05.leftlight.gif',\n",
       " 39: 'yalefaces/train\\\\subject05.noglasses.gif',\n",
       " 40: 'yalefaces/train\\\\subject05.normal.gif',\n",
       " 41: 'yalefaces/train\\\\subject05.sad.gif',\n",
       " 42: 'yalefaces/train\\\\subject05.wink.gif',\n",
       " 43: 'yalefaces/train\\\\subject06.centerlight.gif',\n",
       " 44: 'yalefaces/train\\\\subject06.glasses.gif',\n",
       " 45: 'yalefaces/train\\\\subject06.noglasses.gif',\n",
       " 46: 'yalefaces/train\\\\subject06.normal.gif',\n",
       " 47: 'yalefaces/train\\\\subject06.rightlight.gif',\n",
       " 48: 'yalefaces/train\\\\subject06.sad.gif',\n",
       " 49: 'yalefaces/train\\\\subject06.sleepy.gif',\n",
       " 50: 'yalefaces/train\\\\subject06.surprised.gif',\n",
       " 51: 'yalefaces/train\\\\subject06.wink.gif',\n",
       " 52: 'yalefaces/train\\\\subject07.centerlight.gif',\n",
       " 53: 'yalefaces/train\\\\subject07.glasses.gif',\n",
       " 54: 'yalefaces/train\\\\subject07.noglasses.gif',\n",
       " 55: 'yalefaces/train\\\\subject07.normal.gif',\n",
       " 56: 'yalefaces/train\\\\subject07.rightlight.gif',\n",
       " 57: 'yalefaces/train\\\\subject07.sad.gif',\n",
       " 58: 'yalefaces/train\\\\subject07.sleepy.gif',\n",
       " 59: 'yalefaces/train\\\\subject07.surprised.gif',\n",
       " 60: 'yalefaces/train\\\\subject07.wink.gif',\n",
       " 61: 'yalefaces/train\\\\subject08.centerlight.gif',\n",
       " 62: 'yalefaces/train\\\\subject08.glasses.gif',\n",
       " 63: 'yalefaces/train\\\\subject08.happy.gif',\n",
       " 64: 'yalefaces/train\\\\subject08.leftlight.gif',\n",
       " 65: 'yalefaces/train\\\\subject08.noglasses.gif',\n",
       " 66: 'yalefaces/train\\\\subject08.sad.gif',\n",
       " 67: 'yalefaces/train\\\\subject08.sleepy.gif',\n",
       " 68: 'yalefaces/train\\\\subject08.surprised.gif',\n",
       " 69: 'yalefaces/train\\\\subject08.wink.gif',\n",
       " 70: 'yalefaces/train\\\\subject09.centerlight.gif',\n",
       " 71: 'yalefaces/train\\\\subject09.glasses.gif',\n",
       " 72: 'yalefaces/train\\\\subject09.happy.gif',\n",
       " 73: 'yalefaces/train\\\\subject09.leftlight.gif',\n",
       " 74: 'yalefaces/train\\\\subject09.noglasses.gif',\n",
       " 75: 'yalefaces/train\\\\subject09.normal.gif',\n",
       " 76: 'yalefaces/train\\\\subject09.sleepy.gif',\n",
       " 77: 'yalefaces/train\\\\subject09.surprised.gif',\n",
       " 78: 'yalefaces/train\\\\subject09.wink.gif',\n",
       " 79: 'yalefaces/train\\\\subject10.glasses.gif',\n",
       " 80: 'yalefaces/train\\\\subject10.happy.gif',\n",
       " 81: 'yalefaces/train\\\\subject10.leftlight.gif',\n",
       " 82: 'yalefaces/train\\\\subject10.noglasses.gif',\n",
       " 83: 'yalefaces/train\\\\subject10.normal.gif',\n",
       " 84: 'yalefaces/train\\\\subject10.rightlight.gif',\n",
       " 85: 'yalefaces/train\\\\subject10.sleepy.gif',\n",
       " 86: 'yalefaces/train\\\\subject10.surprised.gif',\n",
       " 87: 'yalefaces/train\\\\subject10.wink.gif',\n",
       " 88: 'yalefaces/train\\\\subject11.centerlight.gif',\n",
       " 89: 'yalefaces/train\\\\subject11.leftlight.gif',\n",
       " 90: 'yalefaces/train\\\\subject11.noglasses.gif',\n",
       " 91: 'yalefaces/train\\\\subject11.normal.gif',\n",
       " 92: 'yalefaces/train\\\\subject11.sad.gif',\n",
       " 93: 'yalefaces/train\\\\subject11.sleepy.gif',\n",
       " 94: 'yalefaces/train\\\\subject11.surprised.gif',\n",
       " 95: 'yalefaces/train\\\\subject11.wink.gif',\n",
       " 96: 'yalefaces/train\\\\subject12.centerlight.gif',\n",
       " 97: 'yalefaces/train\\\\subject12.glasses.gif',\n",
       " 98: 'yalefaces/train\\\\subject12.happy.gif',\n",
       " 99: 'yalefaces/train\\\\subject12.leftlight.gif',\n",
       " 100: 'yalefaces/train\\\\subject12.noglasses.gif',\n",
       " 101: 'yalefaces/train\\\\subject12.sad.gif',\n",
       " 102: 'yalefaces/train\\\\subject12.sleepy.gif',\n",
       " 103: 'yalefaces/train\\\\subject12.surprised.gif',\n",
       " 104: 'yalefaces/train\\\\subject12.wink.gif',\n",
       " 105: 'yalefaces/train\\\\subject13.centerlight.gif',\n",
       " 106: 'yalefaces/train\\\\subject13.glasses.gif',\n",
       " 107: 'yalefaces/train\\\\subject13.happy.gif',\n",
       " 108: 'yalefaces/train\\\\subject13.leftlight.gif',\n",
       " 109: 'yalefaces/train\\\\subject13.noglasses.gif',\n",
       " 110: 'yalefaces/train\\\\subject13.normal.gif',\n",
       " 111: 'yalefaces/train\\\\subject13.rightlight.gif',\n",
       " 112: 'yalefaces/train\\\\subject13.surprised.gif',\n",
       " 113: 'yalefaces/train\\\\subject13.wink.gif',\n",
       " 114: 'yalefaces/train\\\\subject14.centerlight.gif',\n",
       " 115: 'yalefaces/train\\\\subject14.glasses.gif',\n",
       " 116: 'yalefaces/train\\\\subject14.happy.gif',\n",
       " 117: 'yalefaces/train\\\\subject14.leftlight.gif',\n",
       " 118: 'yalefaces/train\\\\subject14.noglasses.gif',\n",
       " 119: 'yalefaces/train\\\\subject14.rightlight.gif',\n",
       " 120: 'yalefaces/train\\\\subject14.sleepy.gif',\n",
       " 121: 'yalefaces/train\\\\subject14.surprised.gif',\n",
       " 122: 'yalefaces/train\\\\subject14.wink.gif',\n",
       " 123: 'yalefaces/train\\\\subject15.centerlight.gif',\n",
       " 124: 'yalefaces/train\\\\subject15.glasses.gif',\n",
       " 125: 'yalefaces/train\\\\subject15.happy.gif',\n",
       " 126: 'yalefaces/train\\\\subject15.leftlight.gif',\n",
       " 127: 'yalefaces/train\\\\subject15.noglasses.gif',\n",
       " 128: 'yalefaces/train\\\\subject15.normal.gif',\n",
       " 129: 'yalefaces/train\\\\subject15.sleepy.gif',\n",
       " 130: 'yalefaces/train\\\\subject15.surprised.gif',\n",
       " 131: 'yalefaces/train\\\\subject15.wink.gif'}"
      ]
     },
     "execution_count": 25,
     "metadata": {},
     "output_type": "execute_result"
    }
   ],
   "source": [
    "index"
   ]
  },
  {
   "cell_type": "code",
   "execution_count": 26,
   "metadata": {},
   "outputs": [
    {
     "data": {
      "text/plain": [
       "0.45545772058204587"
      ]
     },
     "execution_count": 26,
     "metadata": {},
     "output_type": "execute_result"
    }
   ],
   "source": [
    "np.linalg.norm(face_descriptors[131] - face_descriptors[130])"
   ]
  },
  {
   "cell_type": "code",
   "execution_count": 27,
   "metadata": {},
   "outputs": [
    {
     "data": {
      "text/plain": [
       "0.3592425475586557"
      ]
     },
     "execution_count": 27,
     "metadata": {},
     "output_type": "execute_result"
    }
   ],
   "source": [
    "np.linalg.norm(face_descriptors[131] - face_descriptors[129])"
   ]
  },
  {
   "cell_type": "code",
   "execution_count": 28,
   "metadata": {},
   "outputs": [
    {
     "data": {
      "text/plain": [
       "0.3897631465814472"
      ]
     },
     "execution_count": 28,
     "metadata": {},
     "output_type": "execute_result"
    }
   ],
   "source": [
    "np.linalg.norm(face_descriptors[131] - face_descriptors[128])"
   ]
  },
  {
   "cell_type": "code",
   "execution_count": 29,
   "metadata": {},
   "outputs": [
    {
     "data": {
      "text/plain": [
       "array([0.        , 0.50784066, 0.42630828, 0.42523886, 0.49062287,\n",
       "       0.51342067, 0.53196639, 0.56026292, 0.64546154, 0.71203305,\n",
       "       0.64394343, 0.64394343, 0.6279177 , 0.65121567, 0.65244522,\n",
       "       0.66494466, 0.69290892, 0.78224738, 0.7572715 , 0.75894476,\n",
       "       0.75894476, 0.78576578, 0.73202454, 0.75590369, 0.73413247,\n",
       "       0.713863  , 0.89752284, 0.79584049, 0.82464709, 0.84394898,\n",
       "       0.83921448, 0.85722717, 0.83921448, 0.86529412, 0.82774315,\n",
       "       0.69236218, 0.74783535, 0.71776441, 0.7009174 , 0.72964894,\n",
       "       0.75288691, 0.71601198, 0.7287896 , 0.76001713, 0.71714441,\n",
       "       0.7976271 , 0.7976271 , 0.83201444, 0.76261227, 0.76996188,\n",
       "       0.77587483, 0.77188033, 0.84889167, 0.74429965, 0.86814441,\n",
       "       0.86814441, 0.86762203, 0.84179276, 0.84827418, 0.82435086,\n",
       "       0.77751376, 0.78690973, 0.78265545, 0.75007827, 0.79965428,\n",
       "       0.88586834, 0.79735256, 0.82817122, 0.71264815, 0.76670965,\n",
       "       0.73047903, 0.67167058, 0.7529004 , 0.76069186, 0.72093895,\n",
       "       0.72093895, 0.71640882, 0.70344651, 0.73500863, 0.76163585,\n",
       "       0.862047  , 0.87402198, 0.85014513, 0.81911919, 0.85384305,\n",
       "       0.84817828, 0.78344746, 0.85555733, 0.74143391, 0.79176308,\n",
       "       0.70719757, 0.69492221, 0.69794747, 0.68566013, 0.67191184,\n",
       "       0.68846284, 0.734021  , 0.68692713, 0.74991892, 0.75786535,\n",
       "       0.69862629, 0.71765516, 0.68403521, 0.69851374, 0.70132605,\n",
       "       0.84238742, 0.68024004, 0.67377608, 0.81083154, 0.76770318,\n",
       "       0.75049294, 0.77624971, 0.75476856, 0.67317957, 0.89172944,\n",
       "       0.83046406, 0.83546467, 0.91214647, 0.83382403, 0.87021616,\n",
       "       0.85046725, 0.83642892, 0.89181754, 0.75399469, 0.70737631,\n",
       "       0.76753435, 0.78566974, 0.78693787, 0.76875848, 0.7266626 ,\n",
       "       0.81291044, 0.7435037 ])"
      ]
     },
     "execution_count": 29,
     "metadata": {},
     "output_type": "execute_result"
    }
   ],
   "source": [
    "np.linalg.norm(face_descriptors[0] - face_descriptors, axis = 1)"
   ]
  },
  {
   "cell_type": "code",
   "execution_count": 30,
   "metadata": {},
   "outputs": [
    {
     "data": {
      "text/plain": [
       "2"
      ]
     },
     "execution_count": 30,
     "metadata": {},
     "output_type": "execute_result"
    }
   ],
   "source": [
    "np.argmin(np.linalg.norm(face_descriptors[0] - face_descriptors[1:], axis = 1))"
   ]
  },
  {
   "cell_type": "code",
   "execution_count": 31,
   "metadata": {},
   "outputs": [],
   "source": [
    "threshold = 0.5\n",
    "predictions = []\n",
    "expected_outputs = []\n",
    "\n",
    "paths = [os.path.join('yalefaces/test', f) for f in os.listdir('yalefaces/test')]\n",
    "for path in paths:\n",
    "  image = Image.open(path).convert('RGB')\n",
    "  image_np = np.array(image, 'uint8')\n",
    "  face_detection = face_detector(image_np, 1)\n",
    "  for face in face_detection:\n",
    "    points = points_detector(image_np, face)\n",
    "    face_descriptor = face_descriptor_extractor.compute_face_descriptor(image_np, points)\n",
    "    face_descriptor = [f for f in face_descriptor]\n",
    "    face_descriptor = np.asarray(face_descriptor, dtype=np.float64)\n",
    "    face_descriptor = face_descriptor[np.newaxis, :]\n",
    "\n",
    "    distances = np.linalg.norm(face_descriptor - face_descriptors, axis = 1)\n",
    "    min_index = np.argmin(distances)\n",
    "    min_distance = distances[min_index]\n",
    "    if min_distance <= threshold:\n",
    "      name_pred = int(os.path.split(index[min_index])[1].split('.')[0].replace('subject', ''))\n",
    "    else:\n",
    "      name_pred = 'Not identified'\n",
    "\n",
    "    name_real = int(os.path.split(path)[1].split('.')[0].replace('subject', ''))\n",
    "\n",
    "    predictions.append(name_pred)\n",
    "    expected_outputs.append(name_real)\n",
    "\n",
    "    cv2.putText(image_np, 'Pred: ' + str(name_pred), (10, 30), cv2.FONT_HERSHEY_COMPLEX_SMALL, 1, (0,255,0))\n",
    "    cv2.putText(image_np, 'Exp : ' + str(name_real), (10, 50), cv2.FONT_HERSHEY_COMPLEX_SMALL, 1, (0,255,0))\n",
    "\n",
    "\n",
    "#   cv2_imshow(image_np)\n",
    "\n",
    "predictions = np.array(predictions)\n",
    "expected_outputs = np.array(expected_outputs)"
   ]
  },
  {
   "cell_type": "code",
   "execution_count": 32,
   "metadata": {},
   "outputs": [
    {
     "data": {
      "text/plain": [
       "array([ 1,  1,  2,  2,  3,  3,  4,  4,  5,  5,  6,  6,  7,  7,  8,  8,  9,\n",
       "        9, 10, 10, 11, 11, 12, 12, 13, 13, 14, 14, 15, 15])"
      ]
     },
     "execution_count": 32,
     "metadata": {},
     "output_type": "execute_result"
    }
   ],
   "source": [
    "predictions"
   ]
  },
  {
   "cell_type": "code",
   "execution_count": 33,
   "metadata": {},
   "outputs": [
    {
     "data": {
      "text/plain": [
       "array([ 1,  1,  2,  2,  3,  3,  4,  4,  5,  5,  6,  6,  7,  7,  8,  8,  9,\n",
       "        9, 10, 10, 11, 11, 12, 12, 13, 13, 14, 14, 15, 15])"
      ]
     },
     "execution_count": 33,
     "metadata": {},
     "output_type": "execute_result"
    }
   ],
   "source": [
    "expected_outputs"
   ]
  },
  {
   "cell_type": "code",
   "execution_count": 34,
   "metadata": {},
   "outputs": [
    {
     "data": {
      "text/plain": [
       "1.0"
      ]
     },
     "execution_count": 34,
     "metadata": {},
     "output_type": "execute_result"
    }
   ],
   "source": [
    "accuracy_score(expected_outputs, predictions)"
   ]
  },
  {
   "cell_type": "code",
   "execution_count": null,
   "metadata": {},
   "outputs": [],
   "source": []
  }
 ],
 "metadata": {
  "kernelspec": {
   "display_name": "Python 3",
   "language": "python",
   "name": "python3"
  },
  "language_info": {
   "codemirror_mode": {
    "name": "ipython",
    "version": 3
   },
   "file_extension": ".py",
   "mimetype": "text/x-python",
   "name": "python",
   "nbconvert_exporter": "python",
   "pygments_lexer": "ipython3",
   "version": "3.7.4"
  }
 },
 "nbformat": 4,
 "nbformat_minor": 4
}
