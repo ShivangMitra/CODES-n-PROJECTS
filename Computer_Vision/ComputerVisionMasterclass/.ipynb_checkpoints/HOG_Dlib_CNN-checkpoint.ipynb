{
 "cells": [
  {
   "cell_type": "code",
   "execution_count": 1,
   "metadata": {},
   "outputs": [],
   "source": [
    "import dlib\n",
    "import cv2"
   ]
  },
  {
   "cell_type": "code",
   "execution_count": 2,
   "metadata": {},
   "outputs": [],
   "source": [
    "image = cv2.imread('required/Images/people2.jpg')\n",
    "face_detector_hog = dlib.get_frontal_face_detector()\n",
    "detections = face_detector_hog(image, 1)\n",
    "\n",
    "for face in detections:\n",
    "    l, t, r, b = face.left(), face.top(), face.right(), face.bottom()\n",
    "    cv2.rectangle(image, (l, t), (r, b), (0, 255, 255), 2)\n",
    "# cv2.imshow(\"Image\", image)\n",
    "# cv2.waitKey(0)\n",
    "# cv2.destroyAllWindows()"
   ]
  },
  {
   "cell_type": "code",
   "execution_count": 3,
   "metadata": {},
   "outputs": [
    {
     "name": "stdout",
     "output_type": "stream",
     "text": [
      "CONFIDENCE :  1.1440682411193848\n",
      "CONFIDENCE :  1.137049913406372\n",
      "CONFIDENCE :  1.1278996467590332\n",
      "CONFIDENCE :  1.1200228929519653\n",
      "CONFIDENCE :  1.1149370670318604\n",
      "CONFIDENCE :  1.1131553649902344\n",
      "CONFIDENCE :  1.097571611404419\n",
      "CONFIDENCE :  1.0942120552062988\n",
      "CONFIDENCE :  1.085314154624939\n",
      "CONFIDENCE :  1.0801892280578613\n",
      "CONFIDENCE :  1.0800764560699463\n",
      "CONFIDENCE :  1.0784764289855957\n",
      "CONFIDENCE :  1.0664036273956299\n",
      "CONFIDENCE :  1.0641793012619019\n"
     ]
    }
   ],
   "source": [
    "image = cv2.imread('required/Images/people2.jpg')\n",
    "cnn_detector = dlib.cnn_face_detection_model_v1('required/Weights/mmod_human_face_detector.dat')\n",
    "\n",
    "detections = cnn_detector(image, 1)\n",
    "for face in detections:\n",
    "    l, t, r, b, c = face.rect.left(), face.rect.top(), face.rect.right(), face.rect.bottom(), face.confidence\n",
    "    cv2.rectangle(image, (l, t), (r, b), (0, 255, 0), 2)\n",
    "    print(\"CONFIDENCE : \",c)\n",
    "# cv2.imshow(\"Image\", image)\n",
    "# cv2.waitKey(0)\n",
    "# cv2.destroyAllWindows()"
   ]
  },
  {
   "cell_type": "code",
   "execution_count": 4,
   "metadata": {},
   "outputs": [],
   "source": [
    "image = cv2.imread('required/Images/people3.jpg')\n",
    "image_gray = cv2.cvtColor(image, cv2.COLOR_BGR2GRAY)\n",
    "haarcascade_detector = cv2.CascadeClassifier('required/Cascades/haarcascade_frontalface_default.xml')\n",
    "detections = haarcascade_detector.detectMultiScale(image_gray, scaleFactor = 1.001, minNeighbors=5, minSize = (5,5))\n",
    "for (x, y, w, h) in detections:\n",
    "  cv2.rectangle(image, (x, y), (x + w, y + h), (0,255,0), 2)\n",
    "# cv2.imshow(\"Image\", image)\n",
    "# cv2.waitKey(0)\n",
    "# cv2.destroyAllWindows()"
   ]
  },
  {
   "cell_type": "code",
   "execution_count": 5,
   "metadata": {},
   "outputs": [],
   "source": [
    "image = cv2.imread('required/Images/people3.jpg')\n",
    "face_detector_hog = dlib.get_frontal_face_detector()\n",
    "detections = face_detector_hog(image, 4)\n",
    "for face in detections:\n",
    "    l, t, r, b = (face.left(), face.top(), face.right(), face.bottom())\n",
    "    cv2.rectangle(image, (l, t), (r, b), (0, 255, 255), 2)\n",
    "# cv2.imshow(\"Image\", image)\n",
    "# cv2.waitKey(0)\n",
    "# cv2.destroyAllWindows()"
   ]
  },
  {
   "cell_type": "code",
   "execution_count": null,
   "metadata": {},
   "outputs": [],
   "source": [
    "image = cv2.imread('required/Images/people3.jpg')\n",
    "cnn_detector = dlib.cnn_face_detection_model_v1('required/Weights/mmod_human_face_detector.dat')\n",
    "detections = cnn_detector(image, 4)\n",
    "for face in detections:\n",
    "  l, t, r, b, c = face.rect.left(), face.rect.top(), face.rect.right(), face.rect.bottom(), face.confidence\n",
    "  print(c)\n",
    "  cv2.rectangle(image, (l, t), (r, b), (255, 255, 0), 2)\n",
    "cv2.imshow(\"Image\", image)\n",
    "cv2.waitKey(0)\n",
    "cv2.destroyAllWindows()"
   ]
  }
 ],
 "metadata": {
  "kernelspec": {
   "display_name": "Python 3",
   "language": "python",
   "name": "python3"
  },
  "language_info": {
   "codemirror_mode": {
    "name": "ipython",
    "version": 3
   },
   "file_extension": ".py",
   "mimetype": "text/x-python",
   "name": "python",
   "nbconvert_exporter": "python",
   "pygments_lexer": "ipython3",
   "version": "3.7.4"
  }
 },
 "nbformat": 4,
 "nbformat_minor": 4
}
